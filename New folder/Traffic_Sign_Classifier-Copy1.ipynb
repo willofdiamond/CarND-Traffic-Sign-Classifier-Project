{
 "cells": [
  {
   "cell_type": "markdown",
   "metadata": {},
   "source": [
    "# Self-Driving Car Engineer Nanodegree\n",
    "\n",
    "## Deep Learning\n",
    "\n",
    "## Project: Build a Traffic Sign Recognition Classifier\n",
    "\n",
    "In this notebook, a template is provided for you to implement your functionality in stages, which is required to successfully complete this project. If additional code is required that cannot be included in the notebook, be sure that the Python code is successfully imported and included in your submission if necessary. \n",
    "\n",
    "> **Note**: Once you have completed all of the code implementations, you need to finalize your work by exporting the iPython Notebook as an HTML document. Before exporting the notebook to html, all of the code cells need to have been run so that reviewers can see the final implementation and output. You can then export the notebook by using the menu above and navigating to  \\n\",\n",
    "    \"**File -> Download as -> HTML (.html)**. Include the finished document along with this notebook as your submission. \n",
    "\n",
    "In addition to implementing code, there is a writeup to complete. The writeup should be completed in a separate file, which can be either a markdown file or a pdf document. There is a [write up template](https://github.com/udacity/CarND-Traffic-Sign-Classifier-Project/blob/master/writeup_template.md) that can be used to guide the writing process. Completing the code template and writeup template will cover all of the [rubric points](https://review.udacity.com/#!/rubrics/481/view) for this project.\n",
    "\n",
    "The [rubric](https://review.udacity.com/#!/rubrics/481/view) contains \"Stand Out Suggestions\" for enhancing the project beyond the minimum requirements. The stand out suggestions are optional. If you decide to pursue the \"stand out suggestions\", you can include the code in this Ipython notebook and also discuss the results in the writeup file.\n",
    "\n",
    "\n",
    ">**Note:** Code and Markdown cells can be executed using the **Shift + Enter** keyboard shortcut. In addition, Markdown cells can be edited by typically double-clicking the cell to enter edit mode."
   ]
  },
  {
   "cell_type": "markdown",
   "metadata": {},
   "source": [
    "---\n",
    "## Step 0: Load The Data"
   ]
  },
  {
   "cell_type": "code",
   "execution_count": 20,
   "metadata": {
    "collapsed": true
   },
   "outputs": [],
   "source": [
    "# Load pickled data\n",
    "import pickle\n",
    "import tensorflow as tf\n",
    "import numpy as np\n",
    "import pandas as pd\n",
    "from sklearn.utils import shuffle\n",
    "import matplotlib.pyplot as plt\n",
    "import random\n",
    "# Visualizations will be shown in the notebook.\n",
    "%matplotlib inline\n",
    "\n",
    "# TODO: Fill this in based on where you saved the training and testing data\n",
    "\n",
    "training_file = \"D:/Udacity_selfdriving/traffic-signs-data/train.p\"\n",
    "validation_file=\"D:/Udacity_selfdriving/traffic-signs-data/valid.p\"\n",
    "testing_file = \"D:/Udacity_selfdriving/traffic-signs-data/test.p\"\n",
    "\n",
    "with open(training_file, mode='rb') as f:\n",
    "    train = pickle.load(f)\n",
    "with open(validation_file, mode='rb') as f:\n",
    "    valid = pickle.load(f)\n",
    "with open(testing_file, mode='rb') as f:\n",
    "    test = pickle.load(f)\n",
    "    \n",
    "X_train, y_train = train['features'], train['labels']\n",
    "X_valid, y_valid = valid['features'], valid['labels']\n",
    "X_test, y_test = test['features'], test['labels']\n"
   ]
  },
  {
   "cell_type": "markdown",
   "metadata": {},
   "source": [
    "## Read class labels in to python script"
   ]
  },
  {
   "cell_type": "code",
   "execution_count": 21,
   "metadata": {
    "collapsed": true
   },
   "outputs": [],
   "source": [
    "#import pandas as pd\n",
    "classFileName = \"D:/Udacity_selfdriving/CarND-Traffic-Sign-Classifier-Project/signnames.csv\" \n",
    "\n",
    "class_data = pd.read_table(classFileName, delimiter=',')\n",
    "\n",
    "\n"
   ]
  },
  {
   "cell_type": "code",
   "execution_count": 22,
   "metadata": {},
   "outputs": [
    {
     "data": {
      "text/plain": [
       "'Speed limit (20km/h)'"
      ]
     },
     "execution_count": 22,
     "metadata": {},
     "output_type": "execute_result"
    }
   ],
   "source": [
    "#test[]test['labels'][0]\n",
    "class_data.iloc[0,1]"
   ]
  },
  {
   "cell_type": "markdown",
   "metadata": {},
   "source": [
    "### Function to find the count of unique values in the lables"
   ]
  },
  {
   "cell_type": "code",
   "execution_count": 23,
   "metadata": {
    "collapsed": true
   },
   "outputs": [],
   "source": [
    "\n",
    "def find_unique_count(labels_array):\n",
    "    result = set(x  for x in labels_array)\n",
    "    return len(result),list(x for x in result)\n",
    "#find_unique_count(test['labels'])"
   ]
  },
  {
   "cell_type": "markdown",
   "metadata": {},
   "source": [
    "---\n",
    "\n",
    "## Step 1: Dataset Summary & Exploration\n",
    "\n",
    "The pickled data is a dictionary with 4 key/value pairs:\n",
    "\n",
    "- `'features'` is a 4D array containing raw pixel data of the traffic sign images, (num examples, width, height, channels).\n",
    "- `'labels'` is a 1D array containing the label/class id of the traffic sign. The file `signnames.csv` contains id -> name mappings for each id.\n",
    "- `'sizes'` is a list containing tuples, (width, height) representing the original width and height the image.\n",
    "- `'coords'` is a list containing tuples, (x1, y1, x2, y2) representing coordinates of a bounding box around the sign in the image. **THESE COORDINATES ASSUME THE ORIGINAL IMAGE. THE PICKLED DATA CONTAINS RESIZED VERSIONS (32 by 32) OF THESE IMAGES**\n",
    "\n",
    "Complete the basic data summary below. Use python, numpy and/or pandas methods to calculate the data summary rather than hard coding the results. For example, the [pandas shape method](http://pandas.pydata.org/pandas-docs/stable/generated/pandas.DataFrame.shape.html) might be useful for calculating some of the summary results. "
   ]
  },
  {
   "cell_type": "markdown",
   "metadata": {},
   "source": [
    "### Provide a Basic Summary of the Data Set Using Python, Numpy and/or Pandas"
   ]
  },
  {
   "cell_type": "code",
   "execution_count": 24,
   "metadata": {},
   "outputs": [
    {
     "name": "stdout",
     "output_type": "stream",
     "text": [
      "Number of training examples = 34799\n",
      "Number of validation examples = 4410\n",
      "Number of testing examples = 12630\n",
      "Image data shape = (32, 32, 3)\n",
      "Number of classes = 43\n"
     ]
    }
   ],
   "source": [
    "### Replace each question mark with the appropriate value. \n",
    "### Use python, pandas or numpy methods rather than hard coding the results\n",
    "\n",
    "# TODO: Number of training examples\n",
    "n_train =X_train.shape[0]\n",
    "\n",
    "# TODO: Number of validation examples\n",
    "n_validation = X_valid.shape[0]\n",
    "\n",
    "# TODO: Number of testing examples.\n",
    "n_test = X_test.shape[0]\n",
    "\n",
    "# TODO: What's the shape of an traffic sign image?\n",
    "image_shape = test['features'][0].shape\n",
    "\n",
    "# TODO: How many unique classes/labels there are in the dataset.\n",
    "n_classes,classes_labels = find_unique_count(test['labels'])\n",
    "\n",
    "\n",
    "print(\"Number of training examples =\", n_train)\n",
    "print(\"Number of validation examples =\", n_validation)\n",
    "print(\"Number of testing examples =\", n_test)\n",
    "print(\"Image data shape =\", image_shape)\n",
    "print(\"Number of classes =\", n_classes)"
   ]
  },
  {
   "cell_type": "code",
   "execution_count": 25,
   "metadata": {},
   "outputs": [
    {
     "data": {
      "text/plain": [
       "<matplotlib.text.Text at 0x2842a1c8240>"
      ]
     },
     "execution_count": 25,
     "metadata": {},
     "output_type": "execute_result"
    },
    {
     "data": {
      "image/png": "[encoded data removed]",
      "text/plain": [
       "<matplotlib.figure.Figure at 0x28429fbdf60>"
      ]
     },
     "metadata": {},
     "output_type": "display_data"
    },
    {
     "data": {
      "image/png": "[encoded data removed]",
      "text/plain": [
       "<matplotlib.figure.Figure at 0x28429f99160>"
      ]
     },
     "metadata": {},
     "output_type": "display_data"
    },
    {
     "data": {
      "image/png": "[encoded data removed]",
      "text/plain": [
       "<matplotlib.figure.Figure at 0x2842a1e5f98>"
      ]
     },
     "metadata": {},
     "output_type": "display_data"
    }
   ],
   "source": [
    "# Visualization of data\n",
    "\n",
    "# Making a histogram for the distribution\n",
    "plt.figure()\n",
    "plt.hist(y_train, bins = 43)\n",
    "plt.title('Train class spread')\n",
    "    \n",
    "# Making a histogram for the distribution\n",
    "plt.figure()\n",
    "plt.hist(y_test, bins = 43)\n",
    "plt.title('Test class spread')\n",
    "\n",
    "# Making a histogram for the distribution\n",
    "plt.figure()\n",
    "plt.hist(y_valid, bins = 43)\n",
    "plt.title('Valid class spread')\n"
   ]
  },
  {
   "cell_type": "markdown",
   "metadata": {},
   "source": [
    "### Include an exploratory visualization of the dataset"
   ]
  },
  {
   "cell_type": "markdown",
   "metadata": {},
   "source": [
    "Visualize the German Traffic Signs Dataset using the pickled file(s). This is open ended, suggestions include: plotting traffic sign images, plotting the count of each sign, etc. \n",
    "\n",
    "The [Matplotlib](http://matplotlib.org/) [examples](http://matplotlib.org/examples/index.html) and [gallery](http://matplotlib.org/gallery.html) pages are a great resource for doing visualizations in Python.\n",
    "\n",
    "**NOTE:** It's recommended you start with something simple first. If you wish to do more, come back to it after you've completed the rest of the sections. It can be interesting to look at the distribution of classes in the training, validation and test set. Is the distribution the same? Are there more examples of some classes than others?"
   ]
  },
  {
   "cell_type": "code",
   "execution_count": 27,
   "metadata": {},
   "outputs": [
    {
     "name": "stdout",
     "output_type": "stream",
     "text": [
      "Number of training examples = 34799\n"
     ]
    },
    {
     "data": {
      "image/png": "[encoded data removed]",
      "text/plain": [
       "<matplotlib.figure.Figure at 0x28429ff2dd8>"
      ]
     },
     "metadata": {},
     "output_type": "display_data"
    }
   ],
   "source": [
    "### Data exploration visualization code goes here.\n",
    "### Feel free to use as many code cells as needed.\n",
    "import matplotlib.pyplot as plt\n",
    "import random\n",
    "# Visualizations will be shown in the notebook.\n",
    "%matplotlib inline\n",
    "\n",
    "## Visualize a sample image\n",
    "train_random_int=random.randint(0, n_train)\n",
    "validation_random_int=random.randint(0, n_validation)\n",
    "test_random_int=random.randint(0, n_test)\n",
    "plt.subplot(3,1,1)\n",
    "plt.imshow(train['features'][train_random_int])\n",
    "plt.title(class_data.iloc[train['labels'][train_random_int],1])\n",
    "plt.subplot(3,1,2)\n",
    "plt.imshow(valid['features'][validation_random_int])\n",
    "plt.title(class_data.iloc[valid['labels'][validation_random_int],1])\n",
    "plt.subplot(3,1,3)\n",
    "plt.imshow(test['features'][test_random_int])\n",
    "plt.title(class_data.iloc[test['labels'][test_random_int],1])\n",
    "\n",
    "\n",
    "# Plot data distribution for all the three set\n",
    "n_classes_train,train_classes_labels = find_unique_count(train['labels'])\n",
    "n_classes_validataion,validatiaon_classes_labels = find_unique_count(valid['labels'])\n",
    "n_classes_test,test_classes_labels = find_unique_count(test['labels'])\n",
    "print(\"Number of training examples =\", n_train)\n",
    "#ClassSpreadArray(train_classes_labels)\n",
    "\n",
    "\n"
   ]
  },
  {
   "cell_type": "markdown",
   "metadata": {},
   "source": [
    "----\n",
    "\n",
    "## Step 2: Design and Test a Model Architecture\n",
    "\n",
    "Design and implement a deep learning model that learns to recognize traffic signs. Train and test your model on the [German Traffic Sign Dataset](http://benchmark.ini.rub.de/?section=gtsrb&subsection=dataset).\n",
    "\n",
    "The LeNet-5 implementation shown in the [classroom](https://classroom.udacity.com/nanodegrees/nd013/parts/fbf77062-5703-404e-b60c-95b78b2f3f9e/modules/6df7ae49-c61c-4bb2-a23e-6527e69209ec/lessons/601ae704-1035-4287-8b11-e2c2716217ad/concepts/d4aca031-508f-4e0b-b493-e7b706120f81) at the end of the CNN lesson is a solid starting point. You'll have to change the number of classes and possibly the preprocessing, but aside from that it's plug and play! \n",
    "\n",
    "With the LeNet-5 solution from the lecture, you should expect a validation set accuracy of about 0.89. To meet specifications, the validation set accuracy will need to be at least 0.93. It is possible to get an even higher accuracy, but 0.93 is the minimum for a successful project submission. \n",
    "\n",
    "There are various aspects to consider when thinking about this problem:\n",
    "\n",
    "- Neural network architecture (is the network over or underfitting?)\n",
    "- Play around preprocessing techniques (normalization, rgb to grayscale, etc)\n",
    "- Number of examples per label (some have more than others).\n",
    "- Generate fake data.\n",
    "\n",
    "Here is an example of a [published baseline model on this problem](http://yann.lecun.com/exdb/publis/pdf/sermanet-ijcnn-11.pdf). It's not required to be familiar with the approach used in the paper but, it's good practice to try to read papers like these."
   ]
  },
  {
   "cell_type": "markdown",
   "metadata": {},
   "source": [
    "### Pre-process the Data Set (normalization, grayscale, etc.)"
   ]
  },
  {
   "cell_type": "markdown",
   "metadata": {},
   "source": [
    "Minimally, the image data should be normalized so that the data has mean zero and equal variance. For image data, `(pixel - 128)/ 128` is a quick way to approximately normalize the data and can be used in this project. \n",
    "\n",
    "Other pre-processing steps are optional. You can try different techniques to see if it improves performance. \n",
    "\n",
    "Use the code cell (or multiple code cells, if necessary) to implement the first step of your project."
   ]
  },
  {
   "cell_type": "code",
   "execution_count": 28,
   "metadata": {
    "collapsed": true
   },
   "outputs": [],
   "source": [
    "import cv2\n",
    "\n",
    "# Grayscales an image\n",
    "def grayscale(img):\n",
    "    img = cv2.cvtColor(img, cv2.COLOR_BGR2GRAY)\n",
    "    return img\n",
    "\n",
    "# Normalizes the data between 0.1 and 0.9 instead of 0 to 255    \n",
    "def normalize(data):\n",
    "    return data / 255 * 0.8 + 0.1\n",
    "\n",
    "# Iterates through grayscale for each image in the data\n",
    "def preprocess(data):\n",
    "    gray_images = []\n",
    "    for image in data:\n",
    "        gray = grayscale(image)\n",
    "        gray_images.append(gray)\n",
    "        \n",
    "    return np.array(gray_images)"
   ]
  },
  {
   "cell_type": "code",
   "execution_count": 29,
   "metadata": {},
   "outputs": [
    {
     "name": "stdout",
     "output_type": "stream",
     "text": [
      "Preprocessing training data...\n",
      "Finished preprocessing training data.\n",
      "Processed training data shape = (34799, 32, 32, 1)\n",
      "Preprocessing testing data...\n",
      "Finished preprocessing testing data.\n",
      "Processed testing data shape = (12630, 32, 32, 1)\n",
      "All data preprocessing complete.\n"
     ]
    }
   ],
   "source": [
    "from numpy import newaxis\n",
    "#import numpy as np\n",
    "\n",
    "print('Preprocessing training data...')\n",
    "\n",
    "# Iterate through grayscale\n",
    "X_train = preprocess(X_train)\n",
    "X_train = X_train[..., newaxis]\n",
    "\n",
    "# Normalize\n",
    "X_train = normalize(X_train) \n",
    "\n",
    "print('Finished preprocessing training data.')\n",
    "\n",
    "# Double-check that the image is changed to depth of 1\n",
    "image_shape2 = X_train.shape\n",
    "print(\"Processed training data shape =\", image_shape2)\n",
    "\n",
    "print('Preprocessing testing data...')\n",
    "\n",
    "# Iterate through grayscale\n",
    "X_test = preprocess(X_test)\n",
    "X_test = X_test[..., newaxis]\n",
    "\n",
    "# Normalize\n",
    "X_test = normalize(X_test) \n",
    "\n",
    "# Iterate through grayscale\n",
    "X_valid = preprocess(X_valid)\n",
    "X_valid = X_valid[..., newaxis]\n",
    "\n",
    "# Normalize\n",
    "X_valid = normalize(X_valid) \n",
    "\n",
    "print('Finished preprocessing testing data.')\n",
    "\n",
    "# Double-check that the image is changed to depth of 1\n",
    "image_shape3 = X_test.shape\n",
    "print(\"Processed testing data shape =\", image_shape3)\n",
    "\n",
    "print('All data preprocessing complete.')"
   ]
  },
  {
   "cell_type": "code",
   "execution_count": null,
   "metadata": {
    "collapsed": true
   },
   "outputs": [],
   "source": [
    "\n"
   ]
  },
  {
   "cell_type": "markdown",
   "metadata": {},
   "source": [
    "## Features and Labels\n",
    "Train LeNet to classify [MNIST](http://yann.lecun.com/exdb/mnist/) data.\n",
    "\n",
    "`x` is a placeholder for a batch of input images.\n",
    "`y` is a placeholder for a batch of output labels.\n",
    "\n",
    "You do not need to modify this section."
   ]
  },
  {
   "cell_type": "markdown",
   "metadata": {},
   "source": [
    "### Model Architecture"
   ]
  },
  {
   "cell_type": "code",
   "execution_count": 30,
   "metadata": {
    "collapsed": true
   },
   "outputs": [],
   "source": [
    "### Define your architecture here.\n",
    "### Feel free to use as many code cells as needed.\n",
    "from tensorflow.contrib.layers import flatten\n",
    "\n",
    "def LeNet(x):    \n",
    "    # Arguments used for tf.truncated_normal, randomly defines variables for the weights and biases for each layer\n",
    "    mu = 0\n",
    "    sigma = 0.1\n",
    "    print(x)\n",
    "    #  Layer 1: Convolutional. Input = 32x32x3. Output = 28x28x6.\n",
    "    conv1_W = tf.Variable(tf.truncated_normal(shape=(5, 5, 1, 6), mean = mu, stddev = sigma))\n",
    "    conv1_b = tf.Variable(tf.zeros(6))\n",
    "    conv1   = tf.nn.conv2d(x, conv1_W, strides=[1, 1, 1, 1], padding='VALID') + conv1_b\n",
    "\n",
    "    #  Activation.\n",
    "    conv1 = tf.nn.relu(conv1)\n",
    "    print(conv1)\n",
    "    #  Pooling. Input = 28x28x6. Output = 14x14x6.\n",
    "    conv1 = tf.nn.max_pool(conv1, ksize=[1, 2, 2, 1], strides=[1, 2, 2, 1], padding='VALID')\n",
    "\n",
    "    #  Layer 2: Convolutional. Output = 10x10x16.\n",
    "    conv2_W = tf.Variable(tf.truncated_normal(shape=(5, 5, 6, 16), mean = mu, stddev = sigma))\n",
    "    conv2_b = tf.Variable(tf.zeros(16))\n",
    "    conv2   = tf.nn.conv2d(conv1, conv2_W, strides=[1, 1, 1, 1], padding='VALID') + conv2_b\n",
    "    \n",
    "    #  Activation.\n",
    "    conv2 = tf.nn.relu(conv2)\n",
    "    print(conv2)\n",
    "    #  Pooling. Input = 10x10x16. Output = 5x5x16.\n",
    "    conv2 = tf.nn.max_pool(conv2, ksize=[1, 2, 2, 1], strides=[1, 2, 2, 1], padding='VALID')\n",
    "\n",
    "    # Flatten. Input = 5x5x16. Output = 400.\n",
    "    fc0   = flatten(conv2)\n",
    "    \n",
    "    #  Layer 3: Fully Connected. Input = 400. Output = 120.\n",
    "    fc1_W = tf.Variable(tf.truncated_normal(shape=(400, 120), mean = mu, stddev = sigma))\n",
    "    fc1_b = tf.Variable(tf.zeros(120))\n",
    "    fc1   = tf.matmul(fc0, fc1_W) + fc1_b\n",
    "    \n",
    "    #  Activation.\n",
    "    fc1    = tf.nn.relu(fc1)\n",
    "    print(fc1)\n",
    "    \n",
    "    # Dropout, to prevent overfitting\n",
    "    fc1 = tf.nn.dropout(fc1, keep_prob)\n",
    "    \n",
    "    #  Layer 4: Fully Connected. Input = 120. Output = 84.\n",
    "    fc2_W  = tf.Variable(tf.truncated_normal(shape=(120, 84), mean = mu, stddev = sigma))\n",
    "    fc2_b  = tf.Variable(tf.zeros(84))\n",
    "    fc2    = tf.matmul(fc1, fc2_W) + fc2_b\n",
    "    \n",
    "    #  Activation.\n",
    "    fc2    = tf.nn.relu(fc2)\n",
    "    \n",
    "    # Dropout, to prevent overfitting\n",
    "    fc2 = tf.nn.dropout(fc2, keep_prob)\n",
    "\n",
    "    #  Layer 5: Fully Connected. Input = 84. Output = 43.\n",
    "    fc3_W  = tf.Variable(tf.truncated_normal(shape=(84, 43), mean = mu, stddev = sigma))\n",
    "    fc3_b  = tf.Variable(tf.zeros(43))\n",
    "    logits = tf.matmul(fc2, fc3_W) + fc3_b\n",
    "    \n",
    "    return logits"
   ]
  },
  {
   "cell_type": "code",
   "execution_count": 31,
   "metadata": {
    "collapsed": true
   },
   "outputs": [],
   "source": [
    "\n",
    "EPOCHS = 10\n",
    "BATCH_SIZE = 250\n",
    "\n",
    "x = tf.placeholder(tf.float32, (None, 32, 32, 1))\n",
    "y = tf.placeholder(tf.int32, (None))\n",
    "keep_prob = tf.placeholder(tf.float32)\n",
    "one_hot_y = tf.one_hot(y, 43)"
   ]
  },
  {
   "cell_type": "markdown",
   "metadata": {},
   "source": [
    "### Train, Validate and Test the Model"
   ]
  },
  {
   "cell_type": "markdown",
   "metadata": {},
   "source": [
    "A validation set can be used to assess how well the model is performing. A low accuracy on the training and validation\n",
    "sets imply underfitting. A high accuracy on the training set but low accuracy on the validation set implies overfitting."
   ]
  },
  {
   "cell_type": "markdown",
   "metadata": {},
   "source": [
    "## Training Pipeline\n",
    "Create a training pipeline that uses the model to classify MNIST data.\n",
    "\n",
    "You do not need to modify this section."
   ]
  },
  {
   "cell_type": "code",
   "execution_count": 32,
   "metadata": {},
   "outputs": [
    {
     "name": "stdout",
     "output_type": "stream",
     "text": [
      "Tensor(\"Placeholder:0\", shape=(?, 32, 32, 1), dtype=float32)\n",
      "Tensor(\"Relu:0\", shape=(?, 28, 28, 6), dtype=float32)\n",
      "Tensor(\"Relu_1:0\", shape=(?, 10, 10, 16), dtype=float32)\n",
      "Tensor(\"Relu_2:0\", shape=(?, 120), dtype=float32)\n"
     ]
    }
   ],
   "source": [
    "## Train your model here.\n",
    "## Calculate and report the accuracy on the training and validation set.\n",
    "### Once a final model architecture is selected, \n",
    "### the accuracy on the test set should be calculated and reported as well.\n",
    "### Feel free to use as many code cells as needed.\n",
    "rate = 0.005\n",
    "\n",
    "logits = LeNet(x)\n",
    "cross_entropy = tf.nn.softmax_cross_entropy_with_logits(labels=one_hot_y, logits=logits)\n",
    "loss_operation = tf.reduce_mean(cross_entropy)\n",
    "optimizer = tf.train.AdamOptimizer(learning_rate = rate)\n",
    "training_operation = optimizer.minimize(loss_operation)\n"
   ]
  },
  {
   "cell_type": "markdown",
   "metadata": {},
   "source": [
    "## Model Evaluation\n",
    "Evaluate how well the loss and accuracy of the model for a given dataset.\n",
    "\n",
    "You do not need to modify this section."
   ]
  },
  {
   "cell_type": "code",
   "execution_count": 33,
   "metadata": {
    "collapsed": true
   },
   "outputs": [],
   "source": [
    "correct_prediction = tf.equal(tf.argmax(logits, 1), tf.argmax(one_hot_y, 1))\n",
    "accuracy_operation = tf.reduce_mean(tf.cast(correct_prediction, tf.float32))\n",
    "saver = tf.train.Saver()\n",
    "\n",
    "def evaluate(X_data, y_data):\n",
    "    num_examples = len(X_data)\n",
    "    total_accuracy = 0\n",
    "    sess = tf.get_default_session()\n",
    "    for offset in range(0, num_examples, BATCH_SIZE):\n",
    "        batch_x, batch_y = X_data[offset:offset+BATCH_SIZE], y_data[offset:offset+BATCH_SIZE]\n",
    "        accuracy = sess.run(accuracy_operation, feed_dict={x: batch_x, y: batch_y, keep_prob : 1.0})\n",
    "        total_accuracy += (accuracy * len(batch_x))\n",
    "    return total_accuracy / num_examples"
   ]
  },
  {
   "cell_type": "markdown",
   "metadata": {},
   "source": [
    "## Train the Model\n",
    "Run the training data through the training pipeline to train the model.\n",
    "\n",
    "Before each epoch, shuffle the training set.\n",
    "\n",
    "After each epoch, measure the loss and accuracy of the validation set.\n",
    "\n",
    "Save the model after training.\n",
    "\n",
    "You do not need to modify this section."
   ]
  },
  {
   "cell_type": "code",
   "execution_count": 34,
   "metadata": {},
   "outputs": [
    {
     "name": "stdout",
     "output_type": "stream",
     "text": [
      "WARNING:tensorflow:From <ipython-input-34-cfd6e4e0aaf9>:6 in <module>.: initialize_all_variables (from tensorflow.python.ops.variables) is deprecated and will be removed after 2017-03-02.\n",
      "Instructions for updating:\n",
      "Use `tf.global_variables_initializer` instead.\n",
      "Training...\n",
      "\n",
      "EPOCH 1 ...\n",
      "Validation Accuracy = 0.650\n",
      "\n",
      "EPOCH 2 ...\n",
      "Validation Accuracy = 0.780\n",
      "\n",
      "EPOCH 3 ...\n",
      "Validation Accuracy = 0.865\n",
      "\n",
      "EPOCH 4 ...\n",
      "Validation Accuracy = 0.905\n",
      "\n",
      "EPOCH 5 ...\n",
      "Validation Accuracy = 0.907\n",
      "\n",
      "EPOCH 6 ...\n",
      "Validation Accuracy = 0.915\n",
      "\n",
      "EPOCH 7 ...\n",
      "Validation Accuracy = 0.925\n",
      "\n",
      "EPOCH 8 ...\n",
      "Validation Accuracy = 0.919\n",
      "\n",
      "EPOCH 9 ...\n",
      "Validation Accuracy = 0.905\n",
      "\n",
      "EPOCH 10 ...\n",
      "Validation Accuracy = 0.929\n",
      "\n",
      "Trained Model Saved.\n"
     ]
    }
   ],
   "source": [
    "### Feel free to use as many code cells as needed.\n",
    "save_file = 'D:/Udacity_selfdriving/traffic-signs-data/train_model.ckpt'\n",
    "saver = tf.train.Saver()\n",
    "\n",
    "with tf.Session() as sess:\n",
    "    sess.run(tf.initialize_all_variables())\n",
    "    num_examples = len(X_train)\n",
    "    \n",
    "    print(\"Training...\")\n",
    "    print()\n",
    "    for i in range(EPOCHS):\n",
    "        X_train, y_train = shuffle(X_train, y_train)\n",
    "        for offset in range(0, num_examples, BATCH_SIZE):\n",
    "            end = offset + BATCH_SIZE\n",
    "            batch_x, batch_y = X_train[offset:end], y_train[offset:end]\n",
    "            loss = sess.run(training_operation, feed_dict={x: batch_x, y: batch_y, keep_prob : 0.8})\n",
    "            \n",
    "        validation_accuracy = evaluate(X_valid, y_valid)\n",
    "        print(\"EPOCH {} ...\".format(i+1))\n",
    "        print(\"Validation Accuracy = {:.3f}\".format(validation_accuracy))\n",
    "        print()\n",
    "        \n",
    "    # Save the model\n",
    "    saver.save(sess, save_file)\n",
    "    print('Trained Model Saved.')"
   ]
  },
  {
   "cell_type": "markdown",
   "metadata": {},
   "source": [
    "## Evaluate the Model\n",
    "Once you are completely satisfied with your model, evaluate the performance of the model on the test set.\n",
    "\n",
    "Be sure to only do this once!\n",
    "\n",
    "If you were to measure the performance of your trained model on the test set, then improve your model, and then measure the performance of your model on the test set again, that would invalidate your test results. You wouldn't get a true measure of how well your model would perform against real data.\n",
    "\n",
    "You do not need to modify this section."
   ]
  },
  {
   "cell_type": "code",
   "execution_count": 69,
   "metadata": {},
   "outputs": [
    {
     "name": "stdout",
     "output_type": "stream",
     "text": [
      "Test Accuracy = 0.919\n"
     ]
    }
   ],
   "source": [
    "with tf.Session() as sess:\n",
    "    #saver.restore(sess, tf.train.latest_checkpoint('.'))\n",
    "    saver.restore(sess,'D:/Udacity_selfdriving/traffic-signs-data/train_model.ckpt')\n",
    "\n",
    "    test_accuracy = evaluate(X_test, y_test) \n",
    "    print(\"Test Accuracy = {:.3f}\".format(test_accuracy))"
   ]
  },
  {
   "cell_type": "markdown",
   "metadata": {},
   "source": [
    "---\n",
    "\n",
    "## Step 3: Test a Model on New Images\n",
    "\n",
    "To give yourself more insight into how your model is working, download at least five pictures of German traffic signs from the web and use your model to predict the traffic sign type.\n",
    "\n",
    "You may find `signnames.csv` useful as it contains mappings from the class id (integer) to the actual sign name."
   ]
  },
  {
   "cell_type": "markdown",
   "metadata": {},
   "source": [
    "### Load and Output the Images"
   ]
  },
  {
   "cell_type": "code",
   "execution_count": 82,
   "metadata": {},
   "outputs": [
    {
     "name": "stdout",
     "output_type": "stream",
     "text": [
      "count is 0\n"
     ]
    },
    {
     "data": {
      "image/png": "[encoded data removed]",
      "text/plain": [
       "<matplotlib.figure.Figure at 0x1ef824004e0>"
      ]
     },
     "metadata": {},
     "output_type": "display_data"
    }
   ],
   "source": [
    "### Load the images and plot them here.\n",
    "### Feel free to use as many code cells as needed.import glob\n",
    "import glob\n",
    "filenames = [img for img in glob.glob(\"D:/Udacity_selfdriving/CarND-Traffic-Sign-Classifier-Project/webImages/*.png\")]\n",
    "\n",
    "filenames.sort() # ADD THIS LINE\n",
    "images=[]\n",
    "Y=[]\n",
    "count=0\n",
    "for img in filenames:\n",
    "    n= cv2.imread(img)\n",
    "    cv_rgb = cv2.cvtColor(n, cv2.COLOR_BGR2RGB)\n",
    "    cv_rgb=cv2.resize(cv_rgb,(32, 32), interpolation = cv2.INTER_AREA)\n",
    "    plt.imshow(cv_rgb)\n",
    "    if(count==0):\n",
    "        #images=cv_rgb*0\n",
    "        print(\"count is 0\")\n",
    "        #print(np.shape(images))\n",
    "        \n",
    "        \n",
    "    images.append(cv_rgb)\n",
    "    #print(np.shape(images))\n",
    "        \n",
    "    count+=1\n",
    "    #print(count)\n",
    "    Y.append(img.split(\"_\")[2])\n",
    "images=np.array(images)\n",
    "# Iterate through grayscale\n",
    "images = preprocess(images)\n",
    "images = images[..., newaxis]\n",
    "\n",
    "# Normalize\n",
    "images = normalize(images) \n",
    "\n"
   ]
  },
  {
   "cell_type": "code",
   "execution_count": 84,
   "metadata": {},
   "outputs": [
    {
     "name": "stdout",
     "output_type": "stream",
     "text": [
      "(6, 32, 32, 1)\n"
     ]
    },
    {
     "data": {
      "image/png": "[encoded data removed]",
      "text/plain": [
       "<matplotlib.figure.Figure at 0x1ef827412e8>"
      ]
     },
     "metadata": {},
     "output_type": "display_data"
    }
   ],
   "source": [
    "\n",
    "#cv_rgb = cv2.cvtColor(n, cv2.COLOR_BGR2RGB)\n",
    "n= cv2.imread(filenames[0])\n",
    "cv_rgb = cv2.cvtColor(n, cv2.COLOR_BGR2RGB)\n",
    "cv_rgb=cv2.resize(cv_rgb,(32, 32), interpolation = cv2.INTER_AREA)\n",
    "plt.imshow(cv_rgb)\n",
    "Y\n",
    "\n",
    "print(images.shape)\n"
   ]
  },
  {
   "cell_type": "markdown",
   "metadata": {},
   "source": [
    "### Predict the Sign Type for Each Image"
   ]
  },
  {
   "cell_type": "code",
   "execution_count": 85,
   "metadata": {
    "collapsed": true
   },
   "outputs": [],
   "source": [
    "### Run the predictions here and use the model to output the prediction for each image.\n",
    "### Make sure to pre-process the images with the same pre-processing pipeline used earlier.\n",
    "### Feel free to use as many code cells as needed.\n",
    "with tf.Session() as sess:\n",
    "    saver.restore(sess, save_file)\n",
    "\n",
    "    new_pics_classes = sess.run(logits, feed_dict={x: images, keep_prob : 1.0})\n"
   ]
  },
  {
   "cell_type": "code",
   "execution_count": 86,
   "metadata": {},
   "outputs": [
    {
     "name": "stdout",
     "output_type": "stream",
     "text": [
      "(6, 43)\n",
      "[[ -4.78061867e+00   4.41462231e+00   9.16640663e+00   1.12554445e+01\n",
      "   -4.97222281e+00   7.30784702e+00  -1.45951185e+01   8.20820522e+00\n",
      "    5.18110609e+00  -1.28603077e+01  -2.30483284e+01  -1.28387146e+01\n",
      "   -3.06831431e+00  -1.94342918e+01  -2.57587433e+01  -7.85363817e+00\n",
      "   -3.65209508e+00  -2.62287216e+01  -3.61900406e+01  -7.76610661e+00\n",
      "   -2.53117466e+01  -2.10105553e+01  -5.08537598e+01  -2.50535526e+01\n",
      "   -3.27873306e+01  -2.94503460e+01  -3.90260124e+01  -2.60801353e+01\n",
      "   -1.27289705e+01  -2.59462128e+01  -3.14109383e+01  -1.74312191e+01\n",
      "   -9.01458645e+00  -2.05301304e+01  -3.39738464e+01  -1.72617874e+01\n",
      "   -2.53176250e+01  -2.94951534e+01  -1.53110790e+01  -1.76010666e+01\n",
      "   -1.12560225e+01  -1.93020535e+01  -1.86418056e+01]\n",
      " [ -3.54226570e+01  -2.25616322e+01  -3.67505302e+01  -1.09132090e+01\n",
      "   -4.30848160e+01  -1.41899233e+01  -5.19407921e+01  -4.61896667e+01\n",
      "   -4.93593788e+01  -8.19951630e+00  -1.03743410e+01  -2.04397297e+01\n",
      "   -4.77612495e+00   3.53167868e+00  -2.35199642e+01  -7.29217243e+00\n",
      "   -3.97080078e+01  -1.71873665e+00  -2.25515308e+01  -1.49355497e+01\n",
      "   -6.69378936e-02  -3.76033401e+01  -1.76109543e+01  -4.16458368e+00\n",
      "   -4.16376572e+01   1.00040019e+00  -2.33366261e+01  -4.79211807e+01\n",
      "   -2.21635990e+01  -7.35849142e+00  -3.01861897e+01  -4.64972839e+01\n",
      "   -2.99995747e+01  -7.54796600e+00  -1.33642101e+00   3.05698528e+01\n",
      "    4.01318645e+00  -1.13892698e+01  -1.11833601e+01  -4.12064095e+01\n",
      "   -1.20193958e+01  -3.03788471e+01  -3.21045456e+01]\n",
      " [ -1.09360428e+01  -3.25441313e+00  -5.97081184e+00  -8.20769978e+00\n",
      "   -1.10304604e+01  -7.40694332e+00  -2.80250626e+01  -1.08702717e+01\n",
      "   -1.79327850e+01  -5.19451714e+00  -7.71169519e+00   4.37364101e+00\n",
      "   -2.47307181e+00  -3.40869665e+00  -5.24922991e+00  -4.65112448e+00\n",
      "   -1.14397926e+01  -6.37762737e+00  -4.91604614e+00  -1.08581078e+00\n",
      "   -9.37368870e+00  -1.47837758e+00  -7.74086952e+00  -4.22561789e+00\n",
      "   -8.53507137e+00  -3.86129737e+00  -6.21608400e+00  -7.39572430e+00\n",
      "   -6.11351776e+00  -3.65855622e+00   4.26592201e-01  -9.24309635e+00\n",
      "   -1.23247337e+01   6.18319559e+00  -7.61395025e+00   2.42861366e+00\n",
      "   -6.09788847e+00  -7.58047152e+00  -6.71297121e+00  -9.85229015e+00\n",
      "   -3.89592910e+00  -1.85667019e+01  -1.99328117e+01]\n",
      " [ -7.98628845e+01  -5.58596382e+01  -8.19275284e+01  -5.95980721e+01\n",
      "   -7.74488602e+01  -2.94310703e+01  -9.23577118e+01  -6.53578873e+01\n",
      "   -7.81479797e+01  -5.86327286e+01  -1.62994747e+01  -6.40380630e+01\n",
      "   -4.10808334e+01  -3.04133434e+01  -4.64317360e+01  -8.08617401e+01\n",
      "   -1.08903717e+02  -5.41622086e+01  -2.67645950e+01  -3.35487328e+01\n",
      "    1.11183319e+01  -4.02686844e+01   1.69374442e+00  -2.57521009e+00\n",
      "   -4.68765450e+01   6.45941238e+01  -5.43737831e+01  -6.12299347e+01\n",
      "   -6.41754456e+01   1.38228493e+01  -2.33756981e+01  -7.89546204e+00\n",
      "   -1.01830078e+02  -5.10087509e+01  -3.93927460e+01  -2.14446239e+01\n",
      "   -9.96169186e+00  -4.15616417e+01  -4.85510292e+01  -6.33501778e+01\n",
      "   -4.13332176e+01  -7.49723969e+01  -7.04158478e+01]\n",
      " [ -4.90357704e+01  -2.50310593e+01  -2.09581280e+01  -1.92914333e+01\n",
      "   -4.94278793e+01  -1.36811142e+01  -1.14633665e+01  -2.01383858e+01\n",
      "   -3.30287209e+01  -1.54067564e+01   4.22081709e-01  -1.59927738e+00\n",
      "   -9.43094969e-01  -1.95322704e+01  -1.34377346e+01  -3.77933846e+01\n",
      "   -2.77684746e+01  -2.32723217e+01  -1.82049026e+01  -2.22389660e+01\n",
      "    1.32379293e+01  -2.20775623e+01  -3.87265167e+01   1.08355169e+01\n",
      "   -2.29901676e+01   6.75439882e+00  -2.26415577e+01  -2.18174229e+01\n",
      "   -1.99769554e+01  -1.40808802e+01  -1.91382861e+00  -1.75354366e+01\n",
      "   -2.45814724e+01  -3.39627609e+01  -7.16920233e+00  -9.20994663e+00\n",
      "   -2.46403275e+01  -7.73502445e+00  -1.02593298e+01  -4.84447937e+01\n",
      "    3.82997322e+00  -8.50921631e+00   6.15961695e+00]\n",
      " [ -1.27714624e+01  -1.56402016e+00   4.38872218e-01  -1.10767145e+01\n",
      "   -7.11815262e+00  -8.64388275e+00  -4.03367615e+01  -1.78419437e+01\n",
      "   -2.32056656e+01  -3.40620375e+00  -4.49118853e+00  -1.43127546e+01\n",
      "    4.04294538e+00  -3.57034266e-01   1.51422968e+01   2.27453804e+00\n",
      "   -3.54353333e+01   5.95577765e+00  -1.21846294e+01  -2.46460896e+01\n",
      "   -1.69445171e+01  -1.02437735e+01  -8.51854038e+00  -1.43710146e+01\n",
      "   -2.48848648e+01  -6.39173555e+00  -8.28100967e+00  -2.38795280e+01\n",
      "   -2.21377869e+01  -8.81689644e+00  -9.94398403e+00  -2.25467415e+01\n",
      "   -1.77683868e+01   1.41499825e+01  -3.99367070e+00   2.09197688e+00\n",
      "   -6.34536886e+00  -1.57315903e+01  -3.01575732e+00  -8.76011086e+00\n",
      "   -6.39324236e+00  -3.20483093e+01  -2.88230324e+01]]\n"
     ]
    }
   ],
   "source": [
    "print(new_pics_classes.shape)\n",
    "print(new_pics_classes)"
   ]
  },
  {
   "cell_type": "code",
   "execution_count": 87,
   "metadata": {},
   "outputs": [
    {
     "name": "stdout",
     "output_type": "stream",
     "text": [
      "Image 0 probabilities: [ 11.25544453   9.16640663   8.20820522   7.30784702   5.18110609\n",
      "   4.41462231  -3.06831431  -3.65209508] \n",
      " and predicted classes: [ 3  2  7  5  8  1 12 16]\n",
      "Image 1 probabilities: [ 30.56985283   4.01318645   3.53167868   1.00040019  -0.06693789\n",
      "  -1.33642101  -1.71873665  -4.16458368] \n",
      " and predicted classes: [35 36 13 25 20 34 17 23]\n",
      "Image 2 probabilities: [ 6.18319559  4.37364101  2.42861366  0.4265922  -1.08581078 -1.47837758\n",
      " -2.47307181 -3.25441313] \n",
      " and predicted classes: [33 11 35 30 19 21 12  1]\n",
      "Image 3 probabilities: [ 64.59412384  13.82284927  11.11833191   1.69374442  -2.57521009\n",
      "  -7.89546204  -9.96169186 -16.29947472] \n",
      " and predicted classes: [25 29 20 22 23 31 36 10]\n",
      "Image 4 probabilities: [ 13.23792934  10.83551693   6.75439882   6.15961695   3.82997322\n",
      "   0.42208171  -0.94309497  -1.59927738] \n",
      " and predicted classes: [20 23 25 42 40 10 12 11]\n",
      "Image 5 probabilities: [ 15.14229679  14.14998245   5.95577765   4.04294538   2.27453804\n",
      "   2.09197688   0.43887222  -0.35703427] \n",
      " and predicted classes: [14 33 17 12 15 35  2 13]\n",
      "['3', '34', '33', '25', '23', '14']\n"
     ]
    }
   ],
   "source": [
    "with tf.Session() as sess:\n",
    "    predicts = sess.run(tf.nn.top_k(new_pics_classes, k=8, sorted=True))\n",
    "    \n",
    "for i in range(len(predicts[0])):\n",
    "    print('Image', i, 'probabilities:', predicts[0][i], '\\n and predicted classes:', predicts[1][i])\n",
    "print(Y)"
   ]
  },
  {
   "cell_type": "markdown",
   "metadata": {},
   "source": [
    "### Analyze Performance"
   ]
  },
  {
   "cell_type": "code",
   "execution_count": 88,
   "metadata": {
    "collapsed": true
   },
   "outputs": [],
   "source": [
    "### Calculate the accuracy for these 5 new images. \n",
    "### For example, if the model predicted 1 out of 5 signs correctly, it's 20% accurate on these new images."
   ]
  },
  {
   "cell_type": "markdown",
   "metadata": {},
   "source": [
    "### Output Top 5 Softmax Probabilities For Each Image Found on the Web"
   ]
  },
  {
   "cell_type": "markdown",
   "metadata": {},
   "source": [
    "For each of the new images, print out the model's softmax probabilities to show the **certainty** of the model's predictions (limit the output to the top 5 probabilities for each image). [`tf.nn.top_k`](https://www.tensorflow.org/versions/r0.12/api_docs/python/nn.html#top_k) could prove helpful here. \n",
    "\n",
    "The example below demonstrates how tf.nn.top_k can be used to find the top k predictions for each image.\n",
    "\n",
    "`tf.nn.top_k` will return the values and indices (class ids) of the top k predictions. So if k=3, for each sign, it'll return the 3 largest probabilities (out of a possible 43) and the correspoding class ids.\n",
    "\n",
    "Take this numpy array as an example. The values in the array represent predictions. The array contains softmax probabilities for five candidate images with six possible classes. `tk.nn.top_k` is used to choose the three classes with the highest probability:\n",
    "\n",
    "```\n",
    "# (5, 6) array\n",
    "a = np.array([[ 0.24879643,  0.07032244,  0.12641572,  0.34763842,  0.07893497,\n",
    "         0.12789202],\n",
    "       [ 0.28086119,  0.27569815,  0.08594638,  0.0178669 ,  0.18063401,\n",
    "         0.15899337],\n",
    "       [ 0.26076848,  0.23664738,  0.08020603,  0.07001922,  0.1134371 ,\n",
    "         0.23892179],\n",
    "       [ 0.11943333,  0.29198961,  0.02605103,  0.26234032,  0.1351348 ,\n",
    "         0.16505091],\n",
    "       [ 0.09561176,  0.34396535,  0.0643941 ,  0.16240774,  0.24206137,\n",
    "         0.09155967]])\n",
    "```\n",
    "\n",
    "Running it through `sess.run(tf.nn.top_k(tf.constant(a), k=3))` produces:\n",
    "\n",
    "```\n",
    "TopKV2(values=array([[ 0.34763842,  0.24879643,  0.12789202],\n",
    "       [ 0.28086119,  0.27569815,  0.18063401],\n",
    "       [ 0.26076848,  0.23892179,  0.23664738],\n",
    "       [ 0.29198961,  0.26234032,  0.16505091],\n",
    "       [ 0.34396535,  0.24206137,  0.16240774]]), indices=array([[3, 0, 5],\n",
    "       [0, 1, 4],\n",
    "       [0, 5, 1],\n",
    "       [1, 3, 5],\n",
    "       [1, 4, 3]], dtype=int32))\n",
    "```\n",
    "\n",
    "Looking just at the first row we get `[ 0.34763842,  0.24879643,  0.12789202]`, you can confirm these are the 3 largest probabilities in `a`. You'll also notice `[3, 0, 5]` are the corresponding indices."
   ]
  },
  {
   "cell_type": "code",
   "execution_count": 89,
   "metadata": {},
   "outputs": [
    {
     "name": "stdout",
     "output_type": "stream",
     "text": [
      "Image 0 probabilities: [ 11.25544453   9.16640663   8.20820522   7.30784702   5.18110609\n",
      "   4.41462231  -3.06831431  -3.65209508] \n",
      " and predicted classes: [ 3  2  7  5  8  1 12 16]\n",
      "Image 1 probabilities: [ 30.56985283   4.01318645   3.53167868   1.00040019  -0.06693789\n",
      "  -1.33642101  -1.71873665  -4.16458368] \n",
      " and predicted classes: [35 36 13 25 20 34 17 23]\n",
      "Image 2 probabilities: [ 6.18319559  4.37364101  2.42861366  0.4265922  -1.08581078 -1.47837758\n",
      " -2.47307181 -3.25441313] \n",
      " and predicted classes: [33 11 35 30 19 21 12  1]\n",
      "Image 3 probabilities: [ 64.59412384  13.82284927  11.11833191   1.69374442  -2.57521009\n",
      "  -7.89546204  -9.96169186 -16.29947472] \n",
      " and predicted classes: [25 29 20 22 23 31 36 10]\n",
      "Image 4 probabilities: [ 13.23792934  10.83551693   6.75439882   6.15961695   3.82997322\n",
      "   0.42208171  -0.94309497  -1.59927738] \n",
      " and predicted classes: [20 23 25 42 40 10 12 11]\n",
      "Image 5 probabilities: [ 15.14229679  14.14998245   5.95577765   4.04294538   2.27453804\n",
      "   2.09197688   0.43887222  -0.35703427] \n",
      " and predicted classes: [14 33 17 12 15 35  2 13]\n",
      "['3', '34', '33', '25', '23', '14']\n"
     ]
    }
   ],
   "source": [
    "### Print out the top five softmax probabilities for the predictions on the German traffic sign images found on the web. \n",
    "### Feel free to use as many code cells as needed.\n",
    "with tf.Session() as sess:\n",
    "    predicts = sess.run(tf.nn.top_k(new_pics_classes, k=8, sorted=True))\n",
    "    \n",
    "for i in range(len(predicts[0])):\n",
    "    print('Image', i, 'probabilities:', predicts[0][i], '\\n and predicted classes:', predicts[1][i])\n",
    "    \n",
    "print(Y)"
   ]
  },
  {
   "cell_type": "markdown",
   "metadata": {},
   "source": [
    "### Project Writeup\n",
    "\n",
    "Once you have completed the code implementation, document your results in a project writeup using this [template](https://github.com/udacity/CarND-Traffic-Sign-Classifier-Project/blob/master/writeup_template.md) as a guide. The writeup can be in a markdown or pdf file. "
   ]
  }
 ],
 "metadata": {
  "anaconda-cloud": {},
  "kernelspec": {
   "display_name": "Python [conda env:carnd-term1]",
   "language": "python",
   "name": "conda-env-carnd-term1-py"
  },
  "language_info": {
   "codemirror_mode": {
    "name": "ipython",
    "version": 3
   },
   "file_extension": ".py",
   "mimetype": "text/x-python",
   "name": "python",
   "nbconvert_exporter": "python",
   "pygments_lexer": "ipython3",
   "version": "3.5.2"
  }
 },
 "nbformat": 4,
 "nbformat_minor": 1
}
